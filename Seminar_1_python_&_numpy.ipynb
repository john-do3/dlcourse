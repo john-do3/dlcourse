{
  "nbformat": 4,
  "nbformat_minor": 0,
  "metadata": {
    "colab": {
      "name": "Seminar 1 - python & numpy",
      "provenance": [],
      "collapsed_sections": [],
      "include_colab_link": true
    },
    "kernelspec": {
      "name": "python3",
      "display_name": "Python 3"
    }
  },
  "cells": [
    {
      "cell_type": "markdown",
      "metadata": {
        "id": "view-in-github",
        "colab_type": "text"
      },
      "source": [
        "<a href=\"https://colab.research.google.com/github/john-do3/dlcourse/blob/master/Seminar_1_python_%26_numpy.ipynb\" target=\"_parent\"><img src=\"https://colab.research.google.com/assets/colab-badge.svg\" alt=\"Open In Colab\"/></a>"
      ]
    },
    {
      "cell_type": "markdown",
      "metadata": {
        "id": "S5T2mEB-ZvF-",
        "colab_type": "text"
      },
      "source": [
        "# Массивы"
      ]
    },
    {
      "cell_type": "code",
      "metadata": {
        "id": "s59N8EYR_9bO",
        "colab_type": "code",
        "colab": {}
      },
      "source": [
        "import numpy"
      ],
      "execution_count": 0,
      "outputs": []
    },
    {
      "cell_type": "code",
      "metadata": {
        "id": "jY0A5RyoAAjw",
        "colab_type": "code",
        "colab": {}
      },
      "source": [
        "a = numpy.zeros((2, 3), dtype=numpy.float32)  # ничего не вывело"
      ],
      "execution_count": 0,
      "outputs": []
    },
    {
      "cell_type": "code",
      "metadata": {
        "id": "geYTJI96APBa",
        "colab_type": "code",
        "colab": {}
      },
      "source": [
        "a  # выведет а, по оси Y левая координата (внешняя), по оси X правая (внутренняя) "
      ],
      "execution_count": 0,
      "outputs": []
    },
    {
      "cell_type": "code",
      "metadata": {
        "id": "k87_0_pAAP9N",
        "colab_type": "code",
        "colab": {}
      },
      "source": [
        "a;  # не выведет а"
      ],
      "execution_count": 0,
      "outputs": []
    },
    {
      "cell_type": "code",
      "metadata": {
        "id": "69_lVpi5HtQ5",
        "colab_type": "code",
        "colab": {}
      },
      "source": [
        "type(a)"
      ],
      "execution_count": 0,
      "outputs": []
    },
    {
      "cell_type": "code",
      "metadata": {
        "id": "6qFgWZSIIbHC",
        "colab_type": "code",
        "colab": {}
      },
      "source": [
        "a.__class__"
      ],
      "execution_count": 0,
      "outputs": []
    },
    {
      "cell_type": "code",
      "metadata": {
        "id": "4RUgwQgdAR0b",
        "colab_type": "code",
        "colab": {}
      },
      "source": [
        "a = numpy.zeros((2, 3, 4), dtype=numpy.float32); a  # выведет новый а, по оси X правая координата, по оси Y -- внешние координаты"
      ],
      "execution_count": 0,
      "outputs": []
    },
    {
      "cell_type": "code",
      "metadata": {
        "id": "5L3fS2jPAVFY",
        "colab_type": "code",
        "colab": {}
      },
      "source": [
        "a += 1; display(a); a *=2; display(a);  # сложение со скаляром, умножение на скаляр; display -- вывод с помощью jupyter (colab)"
      ],
      "execution_count": 0,
      "outputs": []
    },
    {
      "cell_type": "code",
      "metadata": {
        "id": "0z5eIC8NC8bn",
        "colab_type": "code",
        "colab": {}
      },
      "source": [
        "ones = lambda *shape: numpy.ones(shape, dtype=numpy.float32)"
      ],
      "execution_count": 0,
      "outputs": []
    },
    {
      "cell_type": "code",
      "metadata": {
        "id": "7-tuzZB_qQZR",
        "colab_type": "code",
        "colab": {}
      },
      "source": [
        "ones(0,0)"
      ],
      "execution_count": 0,
      "outputs": []
    },
    {
      "cell_type": "markdown",
      "metadata": {
        "id": "DJHEVqDgZzDz",
        "colab_type": "text"
      },
      "source": [
        "# Задача"
      ]
    },
    {
      "cell_type": "code",
      "metadata": {
        "id": "6I1Rg6xyAfyc",
        "colab_type": "code",
        "colab": {}
      },
      "source": [
        "\"\"\"\n",
        "Задача: \n",
        "вывести красиво операцию A + B = C на экран\n",
        "\"\"\"\n",
        "my_input = [ones(2, 3), '+', ones(2, 3), '=', ones(2,3)*2]\n",
        "print(my_input)\n",
        "print(*my_input)\n",
        "display(*my_input)"
      ],
      "execution_count": 0,
      "outputs": []
    },
    {
      "cell_type": "code",
      "metadata": {
        "id": "cbOUFzTcCv12",
        "colab_type": "code",
        "colab": {}
      },
      "source": [
        "# пусть наша функция имеет такой формат:\n",
        "def pp(*lst):\n",
        "    pass\n",
        "pp(*my_input)"
      ],
      "execution_count": 0,
      "outputs": []
    },
    {
      "cell_type": "code",
      "metadata": {
        "id": "ZUATzsgJEJYE",
        "colab_type": "code",
        "colab": {}
      },
      "source": [
        "lines = [repr(a).split('\\n') for a in my_input]; lines"
      ],
      "execution_count": 0,
      "outputs": []
    },
    {
      "cell_type": "code",
      "metadata": {
        "id": "W9FGnSspDegd",
        "colab_type": "code",
        "colab": {}
      },
      "source": [
        "lines = [str(a).split('\\n') for a in my_input]; lines"
      ],
      "execution_count": 0,
      "outputs": []
    },
    {
      "cell_type": "code",
      "metadata": {
        "id": "yiBDcWHKD8Rw",
        "colab_type": "code",
        "colab": {}
      },
      "source": [
        "max_lines = max([len(line) for line in lines])\n",
        "max_lines"
      ],
      "execution_count": 0,
      "outputs": []
    },
    {
      "cell_type": "code",
      "metadata": {
        "colab_type": "code",
        "id": "G1WhRCxgNjl9",
        "colab": {}
      },
      "source": [
        "lines = [line+['']*(max_lines-len(line)) for line in lines]; lines"
      ],
      "execution_count": 0,
      "outputs": []
    },
    {
      "cell_type": "markdown",
      "metadata": {
        "id": "nOmfUeYUaS8U",
        "colab_type": "text"
      },
      "source": [
        "### транспонирование, reshape, операция получения максимума"
      ]
    },
    {
      "cell_type": "code",
      "metadata": {
        "id": "VfM5D9kMI3O_",
        "colab_type": "code",
        "colab": {}
      },
      "source": [
        "lines_arr = numpy.array(lines); lines_arr.T"
      ],
      "execution_count": 0,
      "outputs": []
    },
    {
      "cell_type": "code",
      "metadata": {
        "id": "hHqZMQZ-I9hi",
        "colab_type": "code",
        "colab": {}
      },
      "source": [
        "widths = [len(x) for x in lines]; display(widths)"
      ],
      "execution_count": 0,
      "outputs": []
    },
    {
      "cell_type": "code",
      "metadata": {
        "id": "adTwt4DKJbeV",
        "colab_type": "code",
        "colab": {}
      },
      "source": [
        "lines_arr.shape; lines_arr.flatten().shape"
      ],
      "execution_count": 0,
      "outputs": []
    },
    {
      "cell_type": "code",
      "metadata": {
        "id": "90FIUhBsKZQF",
        "colab_type": "code",
        "colab": {}
      },
      "source": [
        "widths = numpy.array([len(x) for x in lines_arr.flatten()]); display(widths)\n",
        "widths = widths.reshape(len(lines_arr), -1); display(widths)"
      ],
      "execution_count": 0,
      "outputs": []
    },
    {
      "cell_type": "code",
      "metadata": {
        "id": "WEZLTDTrN-pY",
        "colab_type": "code",
        "colab": {}
      },
      "source": [
        "widths = widths.reshape(*lines_arr.shape); display(widths)"
      ],
      "execution_count": 0,
      "outputs": []
    },
    {
      "cell_type": "code",
      "metadata": {
        "id": "ye8MODh_KqTp",
        "colab_type": "code",
        "colab": {}
      },
      "source": [
        "numpy.max(widths)"
      ],
      "execution_count": 0,
      "outputs": []
    },
    {
      "cell_type": "code",
      "metadata": {
        "id": "3kHxU4NeMCs5",
        "colab_type": "code",
        "colab": {}
      },
      "source": [
        "widths"
      ],
      "execution_count": 0,
      "outputs": []
    },
    {
      "cell_type": "code",
      "metadata": {
        "id": "JKMecpu7MEBo",
        "colab_type": "code",
        "colab": {}
      },
      "source": [
        "widths.max()"
      ],
      "execution_count": 0,
      "outputs": []
    },
    {
      "cell_type": "code",
      "metadata": {
        "id": "b-oaY66KMFdq",
        "colab_type": "code",
        "colab": {}
      },
      "source": [
        "widths.max(axis=1)  # складывает по внутренней оси, "
      ],
      "execution_count": 0,
      "outputs": []
    },
    {
      "cell_type": "code",
      "metadata": {
        "id": "ca2TQmYsMJiK",
        "colab_type": "code",
        "colab": {}
      },
      "source": [
        "line_widths = widths.max(axis=1)"
      ],
      "execution_count": 0,
      "outputs": []
    },
    {
      "cell_type": "markdown",
      "metadata": {
        "id": "ugJhTbxGaHla",
        "colab_type": "text"
      },
      "source": [
        "### форматирование всё равно придётся делать поэлементно. зашли в тупик..."
      ]
    },
    {
      "cell_type": "code",
      "metadata": {
        "id": "G3btWZgxSM3j",
        "colab_type": "code",
        "colab": {}
      },
      "source": [
        "lines = [str(a).split('\\n') for a in my_input]; lines\n",
        "max_lines = max([len(line) for line in lines])\n",
        "max_lines"
      ],
      "execution_count": 0,
      "outputs": []
    },
    {
      "cell_type": "code",
      "metadata": {
        "id": "_hgrRixPSWMb",
        "colab_type": "code",
        "colab": {}
      },
      "source": [
        "def fmt_item(lines, max_lines=0):\n",
        "    max_width = max([len(line) for line in lines])\n",
        "    empty = ' '*max_width\n",
        "    lines = [line.ljust(max_width) for line in lines]\n",
        "    lines += [empty] * (max_lines - len(lines))\n",
        "    return lines    \n",
        "    \n",
        "results = fmt_item(str(numpy.arange(1, 5).reshape(2,-1)).split('\\n'), max_lines=3)\n",
        "print('\\n'.join(results))"
      ],
      "execution_count": 0,
      "outputs": []
    },
    {
      "cell_type": "code",
      "metadata": {
        "id": "GTwQu-wR7qX5",
        "colab_type": "code",
        "colab": {}
      },
      "source": [
        "# а что делать дальше, когда у нас есть такие массивы? \n",
        "# воспользуемся array().T"
      ],
      "execution_count": 0,
      "outputs": []
    },
    {
      "cell_type": "code",
      "metadata": {
        "id": "_etjxroVTCtS",
        "colab_type": "code",
        "colab": {}
      },
      "source": [
        "def pp(*lst):\n",
        "    lines = [str(item).split('\\n') for item in lst]\n",
        "    max_lines = max([len(item) for item in lines])\n",
        "    lines = [fmt_item(item, max_lines=max_lines) for item in lines]\n",
        "    lines_t = numpy.array(lines).T\n",
        "    print('\\n'.join([' '.join(line) for line in lines_t]))\n",
        "    \n",
        "pp(*my_input)\n"
      ],
      "execution_count": 0,
      "outputs": []
    },
    {
      "cell_type": "markdown",
      "metadata": {
        "id": "aQ9AIQ9hZ_7O",
        "colab_type": "text"
      },
      "source": [
        "### Попробуем нашу функцию:"
      ]
    },
    {
      "cell_type": "code",
      "metadata": {
        "id": "yROkCSNbEMhs",
        "colab_type": "code",
        "colab": {}
      },
      "source": [
        "A = numpy.arange(1, 11).reshape(5,2)\n",
        "B = numpy.linspace(10, 30, 10).reshape(5,2)\n",
        "R = A * B\n",
        "pp(A, '*', B, '=', R)"
      ],
      "execution_count": 0,
      "outputs": []
    },
    {
      "cell_type": "code",
      "metadata": {
        "id": "RD_lME-dDD6O",
        "colab_type": "code",
        "colab": {}
      },
      "source": [
        "import operator\n",
        "#operator.add = lambda x, y: x + y\n",
        "\n",
        "def op(x, name, y, func):\n",
        "    r = func(x, y)\n",
        "    pp(x, name, y, '=', r)\n",
        "    \n",
        "op(numpy.array([[1,2],[3,4]]), '+', numpy.array([[5,6],[7,8]]), operator.add)"
      ],
      "execution_count": 0,
      "outputs": []
    },
    {
      "cell_type": "code",
      "metadata": {
        "id": "Jz93V8mSAoe2",
        "colab_type": "code",
        "colab": {}
      },
      "source": [
        "# вспомним классы, оформим в виде класса\n",
        "class Op:\n",
        "    def __init__(self, name, func):\n",
        "        self.name = name\n",
        "        self.func = func\n",
        "    \n",
        "    def __call__(self, x, y):\n",
        "        r = self.func(x, y)\n",
        "        pp(x, self.name, y, '=', r)\n",
        "\n",
        "SSum = Op('+', lambda x, y: x + y)\n",
        "SMul = Op('*', lambda x, y: x * y)\n",
        "MMul = Op('@', lambda x, y: x @ y)  # python 3.5+ \n",
        "\n",
        "SMul(A, B)"
      ],
      "execution_count": 0,
      "outputs": []
    },
    {
      "cell_type": "code",
      "metadata": {
        "id": "v5SZCD5jCjOy",
        "colab_type": "code",
        "colab": {}
      },
      "source": [
        "MMul(A.T, B)"
      ],
      "execution_count": 0,
      "outputs": []
    },
    {
      "cell_type": "code",
      "metadata": {
        "id": "P8faD7ZcTAHJ",
        "colab_type": "code",
        "colab": {}
      },
      "source": [
        ""
      ],
      "execution_count": 0,
      "outputs": []
    },
    {
      "cell_type": "markdown",
      "metadata": {
        "id": "QxRiSVhsSjqt",
        "colab_type": "text"
      },
      "source": [
        "# Простая индексация"
      ]
    },
    {
      "cell_type": "code",
      "metadata": {
        "id": "LFCcP2gbEylq",
        "colab_type": "code",
        "colab": {}
      },
      "source": [
        "pp(B[0, :], B[-1,-2], B[-2:-1, 0])"
      ],
      "execution_count": 0,
      "outputs": []
    },
    {
      "cell_type": "markdown",
      "metadata": {
        "id": "kt4SvIJsRsAB",
        "colab_type": "text"
      },
      "source": [
        "# Broadcasting и stack"
      ]
    },
    {
      "cell_type": "code",
      "metadata": {
        "id": "QfWzE9HyFYS2",
        "colab_type": "code",
        "colab": {}
      },
      "source": [
        "SSum(A, B[0])  # что произойдёт? это преобразование называется broadcasting"
      ],
      "execution_count": 0,
      "outputs": []
    },
    {
      "cell_type": "code",
      "metadata": {
        "id": "vp9dN7KhFfYq",
        "colab_type": "code",
        "colab": {}
      },
      "source": [
        "SMul(A, B[0])  # смотрим ещё раз, на умножении"
      ],
      "execution_count": 0,
      "outputs": []
    },
    {
      "cell_type": "code",
      "metadata": {
        "id": "UbGFHnJuFiYM",
        "colab_type": "code",
        "colab": {}
      },
      "source": [
        "SMul(A, numpy.stack(list(B[0:1])*5))"
      ],
      "execution_count": 0,
      "outputs": []
    },
    {
      "cell_type": "markdown",
      "metadata": {
        "id": "KJf6Qh6cRWzC",
        "colab_type": "text"
      },
      "source": [
        "# Бинарные и логические операции с массивами"
      ]
    },
    {
      "cell_type": "code",
      "metadata": {
        "id": "Okg0VT9ZF8gF",
        "colab_type": "code",
        "colab": {}
      },
      "source": [
        "pp(A, A>3, B, B>=10.) # сравнение float -- дело неточное"
      ],
      "execution_count": 0,
      "outputs": []
    },
    {
      "cell_type": "code",
      "metadata": {
        "id": "HoNvY1sIt31t",
        "colab_type": "code",
        "colab": {}
      },
      "source": [
        "1<<23"
      ],
      "execution_count": 0,
      "outputs": []
    },
    {
      "cell_type": "markdown",
      "metadata": {
        "id": "N4_gcEynOrV0",
        "colab_type": "text"
      },
      "source": [
        "Float 32 format: ![alt text](https://upload.wikimedia.org/wikipedia/commons/thumb/d/d2/Float_example.svg/1180px-Float_example.svg.png) "
      ]
    },
    {
      "cell_type": "code",
      "metadata": {
        "id": "vqjgnb3yGVM9",
        "colab_type": "code",
        "colab": {}
      },
      "source": [
        "pp(numpy.isclose(B, 10), (10 - 1e-7 <= B) & (B <= 10 + 1e-7))"
      ],
      "execution_count": 0,
      "outputs": []
    },
    {
      "cell_type": "code",
      "metadata": {
        "id": "oPqy7M6nuCEB",
        "colab_type": "code",
        "colab": {}
      },
      "source": [
        ""
      ],
      "execution_count": 0,
      "outputs": []
    },
    {
      "cell_type": "code",
      "metadata": {
        "id": "S2tIrfYDRfgr",
        "colab_type": "code",
        "colab": {}
      },
      "source": [
        "idx = numpy.isclose(B, 10) | numpy.isclose(B, 30)\n",
        "B[idx]"
      ],
      "execution_count": 0,
      "outputs": []
    },
    {
      "cell_type": "markdown",
      "metadata": {
        "id": "hPsC5EQBRgsM",
        "colab_type": "text"
      },
      "source": [
        "# Индексация массивов"
      ]
    },
    {
      "cell_type": "code",
      "metadata": {
        "id": "b4ajbqkvJZ7Q",
        "colab_type": "code",
        "colab": {}
      },
      "source": [
        "pp(B)\n",
        "pp(numpy.isclose(B[1:-1, 1:-1], 10))  # классическая индексация питона\n",
        "pp(numpy.isclose(B[0], 10))   # берём первую строку\n",
        "pp(numpy.isclose(B[:, 1], 10))   # берём второй столбец"
      ],
      "execution_count": 0,
      "outputs": []
    },
    {
      "cell_type": "markdown",
      "metadata": {
        "id": "E6BHYI1qP2ZA",
        "colab_type": "text"
      },
      "source": [
        "# Cлучайные значения"
      ]
    },
    {
      "cell_type": "code",
      "metadata": {
        "id": "8JxM_NfYHIvb",
        "colab_type": "code",
        "colab": {}
      },
      "source": [
        "pp(numpy.random.uniform(0, 1), numpy.random.randn(2, 3), numpy.random.rand(2, 3))"
      ],
      "execution_count": 0,
      "outputs": []
    },
    {
      "cell_type": "code",
      "metadata": {
        "id": "AFWlq4tVPVe0",
        "colab_type": "code",
        "colab": {}
      },
      "source": [
        "import random\n",
        "random.seed(10)\n",
        "numpy.random.seed(10)\n",
        "nr = numpy.random.uniform(0, 1)\n",
        "nr2 = numpy.random.uniform(0, 1)\n",
        "rr = random.uniform(0, 1)\n",
        "rr2 = random.uniform(0, 1)\n",
        "pp(rr, nr, rr2, nr2)\n",
        "\n",
        "random.seed(10)\n",
        "numpy.random.seed(10)\n",
        "rr = random.uniform(0, 1)\n",
        "nr = numpy.random.uniform(0, 1)\n",
        "rr2 = random.uniform(0, 1)\n",
        "nr2 = numpy.random.uniform(0, 1)\n",
        "pp(rr, nr, rr2, nr2)"
      ],
      "execution_count": 0,
      "outputs": []
    },
    {
      "cell_type": "code",
      "metadata": {
        "id": "G4VN9KlmU16k",
        "colab_type": "code",
        "colab": {}
      },
      "source": [
        "import matplotlib\n",
        "# значение по умолчанию в colab, но не в локальных ноутбуках\n",
        "matplotlib.rcParams['axes.grid'] = True\n",
        "\n",
        "import matplotlib.pyplot as plt\n",
        "# нарисуем график для 11 случайных нормально распределённых чисел.\n",
        "x = numpy.linspace(0, 10, 11)\n",
        "dots = numpy.random.randn(11)\n",
        "plt.plot(x, dots);"
      ],
      "execution_count": 0,
      "outputs": []
    },
    {
      "cell_type": "code",
      "metadata": {
        "id": "YG61yWFRQC4_",
        "colab_type": "code",
        "colab": {}
      },
      "source": [
        "import matplotlib\n",
        "matplotlib.rcParams['axes.grid'] = False  # убираем белую клетку (настройки colab)\n",
        "\n",
        "import matplotlib.pyplot as plt\n",
        "plt.plot(x, dots);  # рисуем линию ещё раз"
      ],
      "execution_count": 0,
      "outputs": []
    },
    {
      "cell_type": "code",
      "metadata": {
        "id": "jtANKp8mT2Va",
        "colab_type": "code",
        "colab": {}
      },
      "source": [
        "# если надо просто вывести точки, без линий между ними\n",
        "plt.scatter(x, dots);"
      ],
      "execution_count": 0,
      "outputs": []
    },
    {
      "cell_type": "code",
      "metadata": {
        "id": "TR1UodU-T_AI",
        "colab_type": "code",
        "colab": {}
      },
      "source": [
        "# выводим двумерный массив, используя цветовую схему 'hot'.\n",
        "# matplotlib автоматически определяет минимум и максимум\n",
        "# по нему настраивает цвета\n",
        "plt.imshow(numpy.arange(0, 120).reshape(6, 20), 'hot');"
      ],
      "execution_count": 0,
      "outputs": []
    },
    {
      "cell_type": "markdown",
      "metadata": {
        "id": "vu_xEninXHlS",
        "colab_type": "text"
      },
      "source": [
        "# Строки и словари"
      ]
    },
    {
      "cell_type": "code",
      "metadata": {
        "id": "BLk5yKFqUYtW",
        "colab_type": "code",
        "colab": {}
      },
      "source": [
        "# Задача: определить, какой символ встречается чаще всего в данном тексте,\n",
        "# не считая пробелов!\n",
        "a = \"Кот сидел на крыше тише мыши\"\n",
        "pp(set(list(a)))"
      ],
      "execution_count": 0,
      "outputs": []
    },
    {
      "cell_type": "code",
      "metadata": {
        "id": "j_4zX9MPWtxE",
        "colab_type": "code",
        "colab": {}
      },
      "source": [
        "from collections import Counter\n",
        "# приближённое решение.\n",
        "Counter(list(a)).most_common()\n",
        "# убрать пробел и будет то, что надо. попробуйте сами."
      ],
      "execution_count": 0,
      "outputs": []
    },
    {
      "cell_type": "code",
      "metadata": {
        "id": "MlIdvUxCXSjG",
        "colab_type": "code",
        "colab": {}
      },
      "source": [
        "# напишем вручную код аналогичный тому, что происходит внутри Counter\n",
        "counter = {}\n",
        "for ch in list(a.lower()):\n",
        "    if ch == ' ': continue\n",
        "    if ch in counter:\n",
        "        counter[ch] += 1\n",
        "    else:\n",
        "        counter[ch] = 1\n",
        "    \n",
        "pp(counter)"
      ],
      "execution_count": 0,
      "outputs": []
    },
    {
      "cell_type": "code",
      "metadata": {
        "id": "lQ5p5DaUYobm",
        "colab_type": "code",
        "colab": {}
      },
      "source": [
        "pp(type(ch))  # в питоне даже отдельные символы -- это строчки"
      ],
      "execution_count": 0,
      "outputs": []
    },
    {
      "cell_type": "code",
      "metadata": {
        "id": "dEnQFr0HYq7B",
        "colab_type": "code",
        "colab": {}
      },
      "source": [
        "max(counter.values())  # нашли максимум"
      ],
      "execution_count": 0,
      "outputs": []
    },
    {
      "cell_type": "code",
      "metadata": {
        "id": "bPTUMoS9Y9B1",
        "colab_type": "code",
        "colab": {}
      },
      "source": [
        "# алгоритм для поиска максимума\n",
        "winner_ch = None\n",
        "winner_count = 0\n",
        "for ch, count in counter.items():\n",
        "  if count > winner_count:\n",
        "      winner_count = count\n",
        "      winner_ch = ch\n",
        "print(winner_ch, winner_count)  # и вот наш символ-победитель\n",
        "# имейте в виду, победителя на самом деле три.\n",
        "# исправьте код, чтобы вывести и второй и третий."
      ],
      "execution_count": 0,
      "outputs": []
    },
    {
      "cell_type": "markdown",
      "metadata": {
        "id": "v9z_Gk9nfWPK",
        "colab_type": "text"
      },
      "source": [
        " ---"
      ]
    },
    {
      "cell_type": "markdown",
      "metadata": {
        "id": "QZ_Q6UjSgFW8",
        "colab_type": "text"
      },
      "source": [
        "---"
      ]
    },
    {
      "cell_type": "markdown",
      "metadata": {
        "id": "-YCzFzgcgGdY",
        "colab_type": "text"
      },
      "source": [
        "---"
      ]
    },
    {
      "cell_type": "code",
      "metadata": {
        "id": "lR7Q4Mp5gZox",
        "colab_type": "code",
        "outputId": "b2d23d1f-8c72-4fee-c0b7-47bdc9e67741",
        "colab": {
          "base_uri": "https://localhost:8080/",
          "height": 102
        }
      },
      "source": [
        "A"
      ],
      "execution_count": 0,
      "outputs": [
        {
          "output_type": "execute_result",
          "data": {
            "text/plain": [
              "array([[ 1,  2],\n",
              "       [ 3,  4],\n",
              "       [ 5,  6],\n",
              "       [ 7,  8],\n",
              "       [ 9, 10]])"
            ]
          },
          "metadata": {
            "tags": []
          },
          "execution_count": 83
        }
      ]
    },
    {
      "cell_type": "code",
      "metadata": {
        "id": "qIzVzUWIZOjR",
        "colab_type": "code",
        "outputId": "b832c1b5-ca2e-4afb-9315-2ca36b8a6e7b",
        "colab": {
          "base_uri": "https://localhost:8080/",
          "height": 51
        }
      },
      "source": [
        "a=A[0]\n",
        "b=B[0]\n",
        "c=B[0].T\n",
        "print(a.shape, b.shape, c.shape)\n",
        "pp(a, ' ', b, ' ', a+b)"
      ],
      "execution_count": 0,
      "outputs": [
        {
          "output_type": "stream",
          "text": [
            "(2,) (2,) (2,)\n",
            "[1 2]   [10.         12.22222222]   [11.         14.22222222]\n"
          ],
          "name": "stdout"
        }
      ]
    },
    {
      "cell_type": "code",
      "metadata": {
        "id": "8prE7damd6yH",
        "colab_type": "code",
        "outputId": "6bdd9348-786b-45d1-c5de-d12b49a5fce4",
        "colab": {
          "base_uri": "https://localhost:8080/",
          "height": 68
        }
      },
      "source": [
        "a=A[0:1]\n",
        "b=B[0:1]\n",
        "c=B[0:1].T\n",
        "pp('shapes:', a.shape, b.shape, c.shape)\n",
        "pp('arrays:', a, ' ', c, ' ', a+c)"
      ],
      "execution_count": 0,
      "outputs": [
        {
          "output_type": "stream",
          "text": [
            "shapes: (1, 2) (1, 2) (2, 1)\n",
            "arrays: [[1 2]]   [[10.        ]    [[11.         12.        ] \n",
            "                   [12.22222222]]    [13.22222222 14.22222222]]\n"
          ],
          "name": "stdout"
        }
      ]
    },
    {
      "cell_type": "code",
      "metadata": {
        "id": "ApL6Ez-UeNPo",
        "colab_type": "code",
        "outputId": "a51207e3-c31b-43ca-cdc5-e3d57a75b122",
        "colab": {
          "base_uri": "https://localhost:8080/",
          "height": 85
        }
      },
      "source": [
        "a = A[0]\n",
        "b = A[0].reshape(-1, 1)\n",
        "c = A[0][:,None] # or [:, numpy.newaxis]\n",
        "d = A[0][None, :] # or [numpy.newaxis, :]\n",
        "pp(a.shape, ' ', b.shape, ' ', c.shape, ' ', d.shape)\n",
        "print()\n",
        "pp(a, ' ', b, ' ', c, ' ', d)"
      ],
      "execution_count": 0,
      "outputs": [
        {
          "output_type": "stream",
          "text": [
            "(2,)   (2, 1)   (2, 1)   (1, 2)\n",
            "\n",
            "[1 2]   [[1]    [[1]    [[1 2]]\n",
            "         [2]]    [2]]          \n"
          ],
          "name": "stdout"
        }
      ]
    },
    {
      "cell_type": "code",
      "metadata": {
        "id": "D1EN6Oq5en9G",
        "colab_type": "code",
        "colab": {}
      },
      "source": [
        ""
      ],
      "execution_count": 0,
      "outputs": []
    }
  ]
}